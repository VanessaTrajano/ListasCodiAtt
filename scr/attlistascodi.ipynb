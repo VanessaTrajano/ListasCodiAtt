{
  "nbformat": 4,
  "nbformat_minor": 0,
  "metadata": {
    "colab": {
      "provenance": [],
      "authorship_tag": "ABX9TyP/hqB88rSksRgKp2SiF0KP",
      "include_colab_link": true
    },
    "kernelspec": {
      "name": "python3",
      "display_name": "Python 3"
    },
    "language_info": {
      "name": "python"
    }
  },
  "cells": [
    {
      "cell_type": "markdown",
      "metadata": {
        "id": "view-in-github",
        "colab_type": "text"
      },
      "source": [
        "<a href=\"https://colab.research.google.com/github/VanessaTrajano/ListasCodiAtt/blob/main/scr/attlistascodi.ipynb\" target=\"_parent\"><img src=\"https://colab.research.google.com/assets/colab-badge.svg\" alt=\"Open In Colab\"/></a>"
      ]
    },
    {
      "cell_type": "markdown",
      "source": [
        "# **AULA 8**"
      ],
      "metadata": {
        "id": "6J9E01_o1aqG"
      }
    },
    {
      "cell_type": "markdown",
      "source": [
        "1) Crie uma lista que armazene todo o seu nome, uma palavra em cada posição e mostre-a na tela."
      ],
      "metadata": {
        "id": "XggSYQRr1lMt"
      }
    },
    {
      "cell_type": "code",
      "source": [
        "nome = [\"v\",\"a\",\"n\",\"e\",\"s\",\"s\",\"a\"]\n",
        "print(nome)"
      ],
      "metadata": {
        "id": "nXT067FY1iDV",
        "colab": {
          "base_uri": "https://localhost:8080/"
        },
        "outputId": "769f1ec7-5f9d-4b2c-d5f4-4dbb216a0e44"
      },
      "execution_count": null,
      "outputs": [
        {
          "output_type": "stream",
          "name": "stdout",
          "text": [
            "['v', 'a', 'n', 'e', 's', 's', 'a']\n"
          ]
        }
      ]
    },
    {
      "cell_type": "markdown",
      "source": [
        "2) Crie uma lista que armazena os números de 1 a 10 e mostre-a na tela."
      ],
      "metadata": {
        "id": "p3M3N-dRZ0y9"
      }
    },
    {
      "cell_type": "code",
      "source": [
        "numeros = [1, 2, 3, 4, 5, 6, 7, 8, 9, 10]\n",
        "print(numeros)"
      ],
      "metadata": {
        "colab": {
          "base_uri": "https://localhost:8080/"
        },
        "id": "sXaW5oWwZ30A",
        "outputId": "f524a090-a8ca-4255-82cf-b7ede0062b7f"
      },
      "execution_count": null,
      "outputs": [
        {
          "output_type": "stream",
          "name": "stdout",
          "text": [
            "[1, 2, 3, 4, 5, 6, 7, 8, 9, 10]\n"
          ]
        }
      ]
    },
    {
      "cell_type": "markdown",
      "source": [
        "# Aula 9"
      ],
      "metadata": {
        "id": "LDcJnUsTaKIN"
      }
    },
    {
      "cell_type": "markdown",
      "source": [
        "1) Crie uma lista que armazene todo o seu nome, uma palavra em cada posição e mostre o primeiro e o último nome em prints diferentes na tela."
      ],
      "metadata": {
        "id": "dHTmghPtaN6O"
      }
    },
    {
      "cell_type": "code",
      "source": [
        "nome = [\"Vanessa\", \"Palmeira\", \"Kelmer\", \"Trajano\"]\n",
        "\n",
        "print(nome[0])\n",
        "print(nome[-1])"
      ],
      "metadata": {
        "colab": {
          "base_uri": "https://localhost:8080/"
        },
        "id": "pDIcWiKwuPqA",
        "outputId": "ba115781-99f7-4815-b025-6c0f37fa4f6b"
      },
      "execution_count": null,
      "outputs": [
        {
          "output_type": "stream",
          "name": "stdout",
          "text": [
            "Vanessa\n",
            "Trajano\n"
          ]
        }
      ]
    },
    {
      "cell_type": "markdown",
      "source": [
        "2) Crie uma lista com os estados: MG, RJ, SP.\n",
        "\n",
        "a) Troque o estado RJ  por RS e mostre a nova lista na tela.\n",
        "\n",
        "b) Mostre na tela o tamanho da lista.\n",
        "\n",
        "c) Mostre na tela o último estado presenta na lista."
      ],
      "metadata": {
        "id": "Apq6woQKyh8L"
      }
    },
    {
      "cell_type": "code",
      "source": [
        "estados = [\"MG\",\"RJ\",\"SP\"]\n",
        "print(estados)\n",
        "\n",
        "#a\n",
        "estados[1] = \"RS\"\n",
        "print(estados)\n",
        "\n",
        "#b\n",
        "print(len(estados))\n",
        "\n",
        "#c\n",
        "print(estados[-1])"
      ],
      "metadata": {
        "colab": {
          "base_uri": "https://localhost:8080/"
        },
        "id": "zVCj8Qc3ypCr",
        "outputId": "217d6ddd-fc19-41f2-c7ea-b71041b24f08"
      },
      "execution_count": null,
      "outputs": [
        {
          "output_type": "stream",
          "name": "stdout",
          "text": [
            "['MG', 'RJ', 'SP']\n",
            "['MG', 'RS', 'SP']\n",
            "3\n",
            "SP\n"
          ]
        }
      ]
    },
    {
      "cell_type": "markdown",
      "source": [
        "# Aula 10"
      ],
      "metadata": {
        "id": "lB72anTKz7Ft"
      }
    },
    {
      "cell_type": "markdown",
      "source": [
        "1) Crie uma lista “estados” que armazene os 27 Estados Brasileiros.\n",
        "\n",
        "a) Crie uma lista “norte” que armazena apenas os estados da região Norte presentes na lista “estados”.\n",
        "\n",
        "b) Crie uma lista “nordeste” que armazena apenas os estados da região Nordeste presentes na lista “estados”.\n",
        "\n",
        "c) Crie uma lista “centrooeste” que armazena apenas os estados da região Nordeste presentes na lista “estados”.\n",
        "\n",
        "d) Crie uma lista “sudeste” que armazena apenas os estados da região Nordeste presentes na lista “estados”.\n",
        "\n",
        "e) Crie uma lista “sul” que armazena apenas os estados da região Nordeste presentes na lista “estados”.\n",
        "\n",
        "Organize as novas listas exibindo seus elementos na tela seguido do nome da região."
      ],
      "metadata": {
        "id": "NNAB96vN5p55"
      }
    },
    {
      "cell_type": "code",
      "source": [
        "estados = [\"AC\",\"RO\",\"AM\",\"RR\",\"PA\",\"AP\",\"TO\",\"MT\",\"GO\",\"MS\",\"MA\",\"PI\",\"BA\",\"CE\",\"RN\",\"PE\",\"PB\",\"AL\",\"SE\",\"MG\",\"SP\",\"RJ\",\"ES\",\"PR\",\"SC\",\"RS\"]\n",
        "print(estados)\n",
        "\n",
        "#a\n",
        "norte = estados[0:7]\n",
        "print(norte)\n",
        "\n",
        "#b\n",
        "nordeste = estados[10:19]\n",
        "print(nordeste)\n",
        "\n",
        "#c\n",
        "centrooeste = estados[7:10]\n",
        "print(centrooeste)\n",
        "\n",
        "#d\n",
        "sudeste = estados[19:23]\n",
        "print(sudeste)\n",
        "\n",
        "#e\n",
        "sul = estados[23:26]\n",
        "print(sul)"
      ],
      "metadata": {
        "colab": {
          "base_uri": "https://localhost:8080/"
        },
        "id": "1bB5dtI35pSc",
        "outputId": "89b68a2e-9ea3-4289-93da-0daba50fd00a"
      },
      "execution_count": null,
      "outputs": [
        {
          "output_type": "stream",
          "name": "stdout",
          "text": [
            "['AC', 'RO', 'AM', 'RR', 'PA', 'AP', 'TO', 'MT', 'GO', 'MS', 'MA', 'PI', 'BA', 'CE', 'RN', 'PE', 'PB', 'AL', 'SE', 'MG', 'SP', 'RJ', 'ES', 'PR', 'SC', 'RS']\n",
            "['AC', 'RO', 'AM', 'RR', 'PA', 'AP', 'TO']\n",
            "['MA', 'PI', 'BA', 'CE', 'RN', 'PE', 'PB', 'AL', 'SE']\n",
            "['MT', 'GO', 'MS']\n",
            "['MG', 'SP', 'RJ', 'ES']\n",
            "['PR', 'SC', 'RS']\n"
          ]
        }
      ]
    },
    {
      "cell_type": "markdown",
      "source": [
        "# Aula 11"
      ],
      "metadata": {
        "id": "B8_ij3FD-ueh"
      }
    },
    {
      "cell_type": "markdown",
      "source": [
        "1) Crie uma lista “nomes” com os nomes: “Claudio”, “Julio” e “Tamara”.\n",
        "\n",
        "a) Adicione o nome “Sheila”.\n",
        "\n",
        "b) Remova o nome “Julio”.\n",
        "\n",
        "c) Adicione o nome “Cardoso” na segunda posição."
      ],
      "metadata": {
        "id": "RcfvSNtQ-xBe"
      }
    },
    {
      "cell_type": "code",
      "source": [
        "nomes = [\"Claudio\", \"Julio\", \"Tamara\"]\n",
        "print(nomes)\n",
        "\n",
        "#a\n",
        "nomes.append(\"Sheila\")\n",
        "print(nomes)\n",
        "\n",
        "#b\n",
        "nomes.remove(\"Julio\")\n",
        "print(nomes)\n",
        "\n",
        "#c\n",
        "nomes.insert(1, \"Cardoso\")\n",
        "print(nomes)"
      ],
      "metadata": {
        "colab": {
          "base_uri": "https://localhost:8080/"
        },
        "id": "guWbpqHR44a5",
        "outputId": "383d4d7d-a24a-4ad1-ca29-8d6f307f9eff"
      },
      "execution_count": null,
      "outputs": [
        {
          "output_type": "stream",
          "name": "stdout",
          "text": [
            "['Claudio', 'Julio', 'Tamara']\n",
            "['Claudio', 'Julio', 'Tamara', 'Sheila']\n",
            "['Claudio', 'Tamara', 'Sheila']\n",
            "['Claudio', 'Cardoso', 'Tamara', 'Sheila']\n"
          ]
        }
      ]
    },
    {
      "cell_type": "markdown",
      "source": [
        "2) Crie uma lista que contém o seu primeiro nome.\n",
        "\n",
        "a) Adicione nela o seu último nome.\n",
        "\n",
        "b) Adicione nela o(s) seu(s) nome(s) do meio, um a um.\n",
        "\n",
        "Exemplo: Claudio > Claudio Santos > Claudio Marco dos Santos."
      ],
      "metadata": {
        "id": "g_45RmSP5slE"
      }
    },
    {
      "cell_type": "code",
      "source": [
        "nome = [\"Vanessa\"]\n",
        "print(nome)\n",
        "\n",
        "#a\n",
        "nome.append(\"Trajano\")\n",
        "print(nome)\n",
        "\n",
        "#b\n",
        "nome.insert(1, \"Palmeira\")\n",
        "nome.insert(2, \"Kelmer\")\n",
        "print(nome)"
      ],
      "metadata": {
        "colab": {
          "base_uri": "https://localhost:8080/"
        },
        "id": "VVJL3-Qm5xN6",
        "outputId": "42589d3a-8821-44e6-c6fe-6e09e5114d0e"
      },
      "execution_count": null,
      "outputs": [
        {
          "output_type": "stream",
          "name": "stdout",
          "text": [
            "['Vanessa']\n",
            "['Vanessa', 'Trajano']\n",
            "['Vanessa', 'Palmeira', 'Kelmer', 'Trajano']\n"
          ]
        }
      ]
    }
  ]
}